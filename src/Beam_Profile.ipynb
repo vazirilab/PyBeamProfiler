{
 "cells": [
  {
   "cell_type": "code",
   "execution_count": 1,
   "id": "01249c29",
   "metadata": {},
   "outputs": [],
   "source": [
    "import skimage\n",
    "import numpy as np\n",
    "import matplotlib.pyplot as plt\n",
    "import glob\n",
    "import os\n",
    "import PIL\n",
    "#from PIL import ImageFilter, Image \n",
    "import math\n",
    "import time\n",
    "import scipy as sp\n",
    "#from scipy.optimize import curve_fit\n",
    "import PySpin\n",
    "import cv2"
   ]
  },
  {
   "cell_type": "code",
   "execution_count": 444,
   "id": "41514e09",
   "metadata": {},
   "outputs": [],
   "source": [
    "def gauss(x, A, mu, sigma, off):\n",
    "    return A * np.exp(-(x-mu)**2 / (2 * sigma**2)) + off\n"
   ]
  },
  {
   "cell_type": "code",
   "execution_count": 445,
   "id": "d4476b14",
   "metadata": {},
   "outputs": [],
   "source": [
    "ppmm = 1/0.0069  # pixels per mm to convert position to mm\n",
    "NUM_IMG = 100000\n",
    "X_Max_Pos = np.zeros(NUM_IMG)   #array to follow the X-position of the beam center\n",
    "Y_Max_Pos = np.zeros(NUM_IMG)   #array to follow the Y-position of the beam center\n",
    "pos2 = np.zeros(NUM_IMG)\n",
    "std2 = np.zeros(NUM_IMG)\n",
    "FWHM  = np.zeros(NUM_IMG)"
   ]
  },
  {
   "cell_type": "code",
   "execution_count": 446,
   "id": "8bc8c56a",
   "metadata": {},
   "outputs": [],
   "source": [
    "#starting the camera\n",
    "serial = '20270803'  #serisl of the flir cam\n",
    "system = PySpin.System.GetInstance() # Retrieve singleton reference to system object\n",
    "\n",
    "version = system.GetLibraryVersion() # Get current library version\n",
    "\n",
    "cam_list = system.GetCameras()       # Retrieve list of cameras from the system\n",
    "\n",
    "cam = cam_list.GetBySerial(serial)   \n",
    "cam.Init()\n",
    "processor = PySpin.ImageProcessor()\n",
    "cam.BeginAcquisition()"
   ]
  },
  {
   "cell_type": "code",
   "execution_count": 447,
   "id": "a3ba9950",
   "metadata": {},
   "outputs": [
    {
     "name": "stderr",
     "output_type": "stream",
     "text": [
      "<timed exec>:16: RuntimeWarning: invalid value encountered in divide\n"
     ]
    },
    {
     "ename": "ValueError",
     "evalue": "zero-size array to reduction operation maximum which has no identity",
     "output_type": "error",
     "traceback": [
      "\u001b[1;31m---------------------------------------------------------------------------\u001b[0m",
      "\u001b[1;31mValueError\u001b[0m                                Traceback (most recent call last)",
      "File \u001b[1;32m<timed exec>:22\u001b[0m\n",
      "File \u001b[1;32m<__array_function__ internals>:200\u001b[0m, in \u001b[0;36mamax\u001b[1;34m(*args, **kwargs)\u001b[0m\n",
      "File \u001b[1;32m~\\Anaconda3\\envs\\beam_profil\\lib\\site-packages\\numpy\\core\\fromnumeric.py:2820\u001b[0m, in \u001b[0;36mamax\u001b[1;34m(a, axis, out, keepdims, initial, where)\u001b[0m\n\u001b[0;32m   2703\u001b[0m \u001b[38;5;129m@array_function_dispatch\u001b[39m(_amax_dispatcher)\n\u001b[0;32m   2704\u001b[0m \u001b[38;5;28;01mdef\u001b[39;00m \u001b[38;5;21mamax\u001b[39m(a, axis\u001b[38;5;241m=\u001b[39m\u001b[38;5;28;01mNone\u001b[39;00m, out\u001b[38;5;241m=\u001b[39m\u001b[38;5;28;01mNone\u001b[39;00m, keepdims\u001b[38;5;241m=\u001b[39mnp\u001b[38;5;241m.\u001b[39m_NoValue, initial\u001b[38;5;241m=\u001b[39mnp\u001b[38;5;241m.\u001b[39m_NoValue,\n\u001b[0;32m   2705\u001b[0m          where\u001b[38;5;241m=\u001b[39mnp\u001b[38;5;241m.\u001b[39m_NoValue):\n\u001b[0;32m   2706\u001b[0m \u001b[38;5;250m    \u001b[39m\u001b[38;5;124;03m\"\"\"\u001b[39;00m\n\u001b[0;32m   2707\u001b[0m \u001b[38;5;124;03m    Return the maximum of an array or maximum along an axis.\u001b[39;00m\n\u001b[0;32m   2708\u001b[0m \n\u001b[1;32m   (...)\u001b[0m\n\u001b[0;32m   2818\u001b[0m \u001b[38;5;124;03m    5\u001b[39;00m\n\u001b[0;32m   2819\u001b[0m \u001b[38;5;124;03m    \"\"\"\u001b[39;00m\n\u001b[1;32m-> 2820\u001b[0m     \u001b[38;5;28;01mreturn\u001b[39;00m \u001b[43m_wrapreduction\u001b[49m\u001b[43m(\u001b[49m\u001b[43ma\u001b[49m\u001b[43m,\u001b[49m\u001b[43m \u001b[49m\u001b[43mnp\u001b[49m\u001b[38;5;241;43m.\u001b[39;49m\u001b[43mmaximum\u001b[49m\u001b[43m,\u001b[49m\u001b[43m \u001b[49m\u001b[38;5;124;43m'\u001b[39;49m\u001b[38;5;124;43mmax\u001b[39;49m\u001b[38;5;124;43m'\u001b[39;49m\u001b[43m,\u001b[49m\u001b[43m \u001b[49m\u001b[43maxis\u001b[49m\u001b[43m,\u001b[49m\u001b[43m \u001b[49m\u001b[38;5;28;43;01mNone\u001b[39;49;00m\u001b[43m,\u001b[49m\u001b[43m \u001b[49m\u001b[43mout\u001b[49m\u001b[43m,\u001b[49m\n\u001b[0;32m   2821\u001b[0m \u001b[43m                          \u001b[49m\u001b[43mkeepdims\u001b[49m\u001b[38;5;241;43m=\u001b[39;49m\u001b[43mkeepdims\u001b[49m\u001b[43m,\u001b[49m\u001b[43m \u001b[49m\u001b[43minitial\u001b[49m\u001b[38;5;241;43m=\u001b[39;49m\u001b[43minitial\u001b[49m\u001b[43m,\u001b[49m\u001b[43m \u001b[49m\u001b[43mwhere\u001b[49m\u001b[38;5;241;43m=\u001b[39;49m\u001b[43mwhere\u001b[49m\u001b[43m)\u001b[49m\n",
      "File \u001b[1;32m~\\Anaconda3\\envs\\beam_profil\\lib\\site-packages\\numpy\\core\\fromnumeric.py:86\u001b[0m, in \u001b[0;36m_wrapreduction\u001b[1;34m(obj, ufunc, method, axis, dtype, out, **kwargs)\u001b[0m\n\u001b[0;32m     83\u001b[0m         \u001b[38;5;28;01melse\u001b[39;00m:\n\u001b[0;32m     84\u001b[0m             \u001b[38;5;28;01mreturn\u001b[39;00m reduction(axis\u001b[38;5;241m=\u001b[39maxis, out\u001b[38;5;241m=\u001b[39mout, \u001b[38;5;241m*\u001b[39m\u001b[38;5;241m*\u001b[39mpasskwargs)\n\u001b[1;32m---> 86\u001b[0m \u001b[38;5;28;01mreturn\u001b[39;00m ufunc\u001b[38;5;241m.\u001b[39mreduce(obj, axis, dtype, out, \u001b[38;5;241m*\u001b[39m\u001b[38;5;241m*\u001b[39mpasskwargs)\n",
      "\u001b[1;31mValueError\u001b[0m: zero-size array to reduction operation maximum which has no identity"
     ]
    }
   ],
   "source": [
    "%%time\n",
    "%matplotlib qt\n",
    "\n",
    "fig = plt.figure(1)\n",
    "ax = None\n",
    "\n",
    "#fig.canvas.mpl_connect('close_event', handle_close)\n",
    "for i in range (NUM_IMG):\n",
    "    image_result = cam.GetNextImage(1000)\n",
    "    FrameNP =  image_result.GetNDArray() #get the result as a numpy array\n",
    "    plt.imshow(FrameNP, cmap='gray')\n",
    "    cam.ExposureTime.GetValue()\n",
    "\n",
    "    #imax = plt.imshow(FrameNP)\n",
    "    FramePIL = PIL.Image.fromarray( FrameNP ) #get the result as a PIL image\n",
    "    image_result.Release() #releases the result to increase speed\n",
    "    FrameNP = (FrameNP - np.min(FrameNP)) / (np.max(FrameNP) - np.min(FrameNP)) # normalize the matrix\n",
    "    \n",
    "    # the elliptic shape of the beam is extracted on the form of points on a certain intensity of the gaussian beam\n",
    "    yx_coords = np.column_stack(np.where((FrameNP >= 0.49 ) & (FrameNP <= 0.51)))\n",
    "    \n",
    "    # the center of this ellipse is in the middle between the max Y and min Y and max X and min X \n",
    "    Y_Center = ( (np.amax(yx_coords[:,0]) + np.amin(yx_coords[:,0]) ) / 2)\n",
    "    X_Center = ( (np.amax(yx_coords[:,1]) + np.amin(yx_coords[:,1]) ) / 2)\n",
    "    X_Max_Pos[i] = X_Center / ppmm\n",
    "    Y_Max_Pos[i] = Y_Center / ppmm\n",
    "    plt.scatter(X_Center,Y_Center, c='b')\n",
    "    #plt.scatter(yx_coords[:,1],yx_coords[:,0], c='g')\n",
    "    \n",
    "    # the axis is set at the furthest point from the center\n",
    "    d_from_center = (yx_coords[:,1] - X_Center)**2 + (yx_coords[:,0] - Y_Center)**2\n",
    "    FWHM[i] = 2 * math.sqrt(np.amax(d_from_center)) / ppmm\n",
    "    P_axis = np.where(d_from_center == np.amax(d_from_center))\n",
    "    P_axis = yx_coords[P_axis[0]] \n",
    "\n",
    "    m = (P_axis[0][0] - Y_Center) / (P_axis[0][1] - X_Center) # the slope of the axis\n",
    "    \n",
    "    \n",
    "    #centering and croping the image\n",
    "    FramePIL = FramePIL.crop( ( round(X_Center - 190) , round(Y_Center - 190) , round(X_Center + 190)  , round(Y_Center + 190) ) )\n",
    "    FramePIL = FramePIL.rotate( abs(math.atan(m) * 180 / math.pi) + 90)\n",
    "    sum_rows = np.mean(FramePIL, axis=0)   #get array with the sums of the rows\n",
    "    sum_col = np.mean(FramePIL, axis=1)    #get array with the sums of the columns\n",
    "\n",
    "    x_col=np.linspace(0, FramePIL.height -1 , num = FramePIL.height) / ppmm   # dim in mm\n",
    "    x_rows=np.linspace(0, FramePIL.width -1 , num = FramePIL.width) / ppmm    # dim in mm\n",
    "\n",
    "    popt1,pcov1 = sp.optimize.curve_fit(gauss, x_rows,  sum_rows)\n",
    "\n",
    "    popt2,pcov2 = sp.optimize.curve_fit(gauss, x_col,  sum_col)\n",
    "\n",
    "    pos2[i] = popt2[1]\n",
    "    std2[i] = abs(popt2[2])\n",
    "    plt.pause(0.001)\n",
    "    plt.clf()\n",
    "cam.EndAcquisition()\n",
    "cam.DeInit()"
   ]
  },
  {
   "cell_type": "code",
   "execution_count": 442,
   "id": "469d8dbe",
   "metadata": {},
   "outputs": [
    {
     "data": {
      "text/plain": [
       "2.2781144535000006"
      ]
     },
     "execution_count": 442,
     "metadata": {},
     "output_type": "execute_result"
    }
   ],
   "source": [
    "np.mean(X_Max_Pos)"
   ]
  },
  {
   "cell_type": "code",
   "execution_count": 448,
   "id": "0c4befa7",
   "metadata": {},
   "outputs": [
    {
     "data": {
      "text/plain": [
       "<function matplotlib.pyplot.show(*, block=None)>"
      ]
     },
     "execution_count": 448,
     "metadata": {},
     "output_type": "execute_result"
    }
   ],
   "source": [
    "plt.figure\n",
    "#plt.plot(std2 )\n",
    "plt.plot( Y_Max_Pos)\n",
    "plt.show"
   ]
  },
  {
   "cell_type": "code",
   "execution_count": null,
   "id": "76fa5901",
   "metadata": {},
   "outputs": [],
   "source": [
    "cam.EndAcquisition()\n",
    "cam.DeInit()"
   ]
  }
 ],
 "metadata": {
  "kernelspec": {
   "display_name": "Python 3 (ipykernel)",
   "language": "python",
   "name": "python3"
  },
  "language_info": {
   "codemirror_mode": {
    "name": "ipython",
    "version": 3
   },
   "file_extension": ".py",
   "mimetype": "text/x-python",
   "name": "python",
   "nbconvert_exporter": "python",
   "pygments_lexer": "ipython3",
   "version": "3.10.11"
  }
 },
 "nbformat": 4,
 "nbformat_minor": 5
}
